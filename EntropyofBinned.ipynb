{
 "cells": [
  {
   "cell_type": "code",
   "execution_count": 3,
   "metadata": {},
   "outputs": [],
   "source": [
    "import librosa\n",
    "import numpy as np\n",
    "import pandas as pd\n",
    "import nltk\n",
    "import matplotlib.pyplot as plt\n",
    "import glob\n",
    "import IPython\n",
    "import noisereduce as nr"
   ]
  },
  {
   "cell_type": "code",
   "execution_count": null,
   "metadata": {},
   "outputs": [],
   "source": [
    "#Binning using Pd.cut(?) and np.digitize"
   ]
  },
  {
   "cell_type": "code",
   "execution_count": 85,
   "metadata": {},
   "outputs": [],
   "source": [
    "##help from\n",
    "##https://stackoverflow.com/questions/45663115/importing-multiple-files-in-python\n",
    "\n",
    "myFiles=[]\n",
    "b=glob.glob(\"C:/Users/agnap/Dolphin_computation/Dolphin Dataset\"+\"/*.wav\")\n",
    "myFiles.extend(b)"
   ]
  },
  {
   "cell_type": "code",
   "execution_count": 89,
   "metadata": {},
   "outputs": [
    {
     "name": "stdout",
     "output_type": "stream",
     "text": [
      "16.463309732188375 1.9870649698560738\n",
      "16.454048642201446 1.990763782676547\n",
      "15.696860313032477 2.617218808637902\n",
      "15.762934286586761 2.620898635530269\n",
      "15.967194302717953 2.622217151448485\n",
      "16.48506035659647 2.6194850659212685\n",
      "16.554492099612034 2.6172326627679743\n",
      "16.503422392923316 2.556279487629742\n",
      "16.52581270826349 2.5307780271010594\n",
      "16.45254730076138 2.524959916761557\n",
      "16.564716472060603 2.5034304404647925\n",
      "16.52455723737245 2.496434351893036\n",
      "16.508400865957903 2.4845219635179774\n",
      "16.525328012647414 2.475469873081929\n",
      "16.55381402871712 2.4712391676799053\n",
      "16.49888786802979 2.4804964838323613\n",
      "16.600217923265838 1.6349577573129266\n",
      "16.752469049581933 2.5733877147476156\n",
      "16.745758116979633 2.6039685628925335\n",
      "16.575490534688427 2.6757198319975375\n",
      "16.716442298303754 2.669411251700755\n",
      "16.581121533178987 2.67338401464715\n",
      "16.739214668977894 2.682443724314239\n",
      "16.670383918643285 2.6834644630981406\n",
      "16.79139666602745 2.6689596697842024\n",
      "16.92107636425771 2.680626035954661\n",
      "16.794438275633144 2.6965621852844595\n",
      "16.8387852952862 2.628541288010786\n",
      "16.883059818058214 2.609397384445215\n",
      "16.791590399626138 2.6321964127252184\n",
      "16.73920777509106 2.667785770123122\n",
      "16.812766376743742 2.6671815071495715\n",
      "16.97333152945554 2.644425426403447\n",
      "16.843447266260593 2.6317221685780003\n",
      "16.812214854541214 2.628240249051673\n",
      "16.545921828335818 2.6306760759789194\n",
      "16.53644947717308 2.6146182741952213\n",
      "16.880125138918554 2.6057771479434937\n",
      "16.552398021923025 2.588980088841371\n",
      "16.82587889656315 2.564155250612912\n",
      "16.545921828335818 2.5509055245494276\n",
      "16.550331934118873 2.508301591115459\n",
      "16.564164578635577 2.4709731625038245\n",
      "17.573713494950255 2.5347756902245213\n",
      "16.741114423416803 2.600377970324524\n",
      "16.724924771488546 2.5934873063547568\n",
      "16.68495613232702 2.5799927325378667\n",
      "16.572609312032927 2.5812850915762526\n",
      "16.718818979340522 2.546168328480853\n",
      "16.80885195643716 2.5118707532778086\n",
      "16.793248566327232 2.4386582663742224\n",
      "16.85286884087795 2.3380123614093717\n",
      "16.573559731739255 1.4742461040693666\n",
      "16.58113955607558 1.471748315297655\n",
      "16.56143843531023 1.4698734776912885\n",
      "16.566916293462235 1.4703516553563216\n",
      "16.544558321086885 1.480530134046362\n",
      "16.54815863246765 1.4793695040890846\n",
      "16.581664648162953 1.4750367653073775\n",
      "16.550826704095485 1.479355941288846\n",
      "16.59225498919303 1.4738734717103046\n",
      "16.612495432854285 1.4772300485407688\n",
      "16.577620710500767 1.4813529028044312\n",
      "16.571380147369716 1.4774650532115674\n",
      "16.47017749302259 1.4668516575615338\n",
      "16.48702619388442 1.470792375885374\n",
      "16.57484039744668 2.6503453943872812\n",
      "16.53987891220746 2.643666908916464\n",
      "16.51398158409202 2.699699315424937\n",
      "16.53688597304718 2.696667075108969\n",
      "16.49197983667037 2.562030739461552\n",
      "16.491375168400282 2.535597793670215\n",
      "16.714052529567 1.329370892201565\n",
      "16.56016649214397 1.3293188486676493\n",
      "16.49901479336198 2.683315294228084\n",
      "16.547164656705352 2.6853260762175926\n",
      "16.51516937275534 2.672245035961559\n",
      "16.566836300947447 2.6670784701172385\n",
      "16.56475770067326 2.684215256697032\n",
      "16.54645987545531 2.6978611367919787\n",
      "16.701142955879057 2.6782826351835434\n",
      "16.54563765224896 2.6923205122303804\n",
      "16.556813846399937 2.683768557410155\n",
      "16.518715987065786 2.1041614988080855\n",
      "16.55249376354392 2.0955262422201737\n",
      "16.479670001487403 2.1086650604010604\n",
      "16.459624105011653 2.1355488554168973\n",
      "16.513853473404385 2.142850690164761\n",
      "16.529759173258288 2.1437411305542518\n",
      "16.54998035635546 2.1022196866414125\n",
      "16.5056126329863 2.077265538411469\n",
      "16.491912270142517 2.025316668869176\n",
      "16.52373287424895 2.029939620321049\n",
      "16.551687588451372 2.05033561816903\n",
      "16.55836577492645 2.040431386675037\n",
      "16.470309519295817 2.0458559356717085\n",
      "16.508869856341214 2.031013287716086\n",
      "16.486939168309778 2.0262332357258437\n",
      "16.586687675707704 2.6777127046134943\n",
      "16.61782288308336 2.67700644078879\n",
      "16.60845483778986 2.6975411898032307\n",
      "16.639207024453633 2.694768129696485\n"
     ]
    }
   ],
   "source": [
    "#print entropy of original and digitized\n",
    "for i in myFiles:\n",
    "        x,sr=librosa.load(i)\n",
    "        ##Round values to 4 decimal places\n",
    "        y=np.digitize(x,bins=interval_range)\n",
    "        print(entropy(x),entropy(y))\n",
    "        "
   ]
  },
  {
   "cell_type": "code",
   "execution_count": 86,
   "metadata": {},
   "outputs": [],
   "source": [
    "import math\n",
    "def entropy(labels):\n",
    "    freqdist=nltk.FreqDist(labels)\n",
    "    probs=[freqdist.freq(l) for l in nltk.FreqDist(labels)]\n",
    "    info=([p*math.log(p,2) for p in probs])\n",
    "    return -sum(info)"
   ]
  },
  {
   "cell_type": "code",
   "execution_count": 90,
   "metadata": {},
   "outputs": [],
   "source": [
    "x,sr=librosa.load(\"C:/Users/agnap/Dolphin_computation/Dolphin Dataset/Wh_0007.wav\")"
   ]
  },
  {
   "cell_type": "code",
   "execution_count": 91,
   "metadata": {},
   "outputs": [
    {
     "name": "stdout",
     "output_type": "stream",
     "text": [
      "[0.0002476  0.00053527 0.00063764 ... 0.00067887 0.00130462 0.        ]\n"
     ]
    },
    {
     "data": {
      "text/html": [
       "<div>\n",
       "<style scoped>\n",
       "    .dataframe tbody tr th:only-of-type {\n",
       "        vertical-align: middle;\n",
       "    }\n",
       "\n",
       "    .dataframe tbody tr th {\n",
       "        vertical-align: top;\n",
       "    }\n",
       "\n",
       "    .dataframe thead th {\n",
       "        text-align: right;\n",
       "    }\n",
       "</style>\n",
       "<table border=\"1\" class=\"dataframe\">\n",
       "  <thead>\n",
       "    <tr style=\"text-align: right;\">\n",
       "      <th></th>\n",
       "      <th>series</th>\n",
       "    </tr>\n",
       "  </thead>\n",
       "  <tbody>\n",
       "    <tr>\n",
       "      <th>0</th>\n",
       "      <td>0.000248</td>\n",
       "    </tr>\n",
       "    <tr>\n",
       "      <th>1</th>\n",
       "      <td>0.000535</td>\n",
       "    </tr>\n",
       "    <tr>\n",
       "      <th>2</th>\n",
       "      <td>0.000638</td>\n",
       "    </tr>\n",
       "    <tr>\n",
       "      <th>3</th>\n",
       "      <td>0.001034</td>\n",
       "    </tr>\n",
       "    <tr>\n",
       "      <th>4</th>\n",
       "      <td>0.001087</td>\n",
       "    </tr>\n",
       "    <tr>\n",
       "      <th>...</th>\n",
       "      <td>...</td>\n",
       "    </tr>\n",
       "    <tr>\n",
       "      <th>96354</th>\n",
       "      <td>-0.000044</td>\n",
       "    </tr>\n",
       "    <tr>\n",
       "      <th>96355</th>\n",
       "      <td>0.000323</td>\n",
       "    </tr>\n",
       "    <tr>\n",
       "      <th>96356</th>\n",
       "      <td>0.000679</td>\n",
       "    </tr>\n",
       "    <tr>\n",
       "      <th>96357</th>\n",
       "      <td>0.001305</td>\n",
       "    </tr>\n",
       "    <tr>\n",
       "      <th>96358</th>\n",
       "      <td>0.000000</td>\n",
       "    </tr>\n",
       "  </tbody>\n",
       "</table>\n",
       "<p>96359 rows × 1 columns</p>\n",
       "</div>"
      ],
      "text/plain": [
       "         series\n",
       "0      0.000248\n",
       "1      0.000535\n",
       "2      0.000638\n",
       "3      0.001034\n",
       "4      0.001087\n",
       "...         ...\n",
       "96354 -0.000044\n",
       "96355  0.000323\n",
       "96356  0.000679\n",
       "96357  0.001305\n",
       "96358  0.000000\n",
       "\n",
       "[96359 rows x 1 columns]"
      ]
     },
     "execution_count": 91,
     "metadata": {},
     "output_type": "execute_result"
    }
   ],
   "source": [
    "print(x)\n",
    "df=pd.DataFrame(x,columns=['series'])\n",
    "df"
   ]
  },
  {
   "cell_type": "code",
   "execution_count": 93,
   "metadata": {
    "scrolled": true
   },
   "outputs": [
    {
     "ename": "TypeError",
     "evalue": "'<' not supported between instances of 'float' and 'pandas._libs.interval.Interval'",
     "output_type": "error",
     "traceback": [
      "\u001b[1;31m---------------------------------------------------------------------------\u001b[0m",
      "\u001b[1;31mTypeError\u001b[0m                                 Traceback (most recent call last)",
      "\u001b[1;32m<ipython-input-93-891aaaf64810>\u001b[0m in \u001b[0;36m<module>\u001b[1;34m\u001b[0m\n\u001b[0;32m      1\u001b[0m \u001b[0minterval_range\u001b[0m\u001b[1;33m=\u001b[0m\u001b[0mnp\u001b[0m\u001b[1;33m.\u001b[0m\u001b[0mlinspace\u001b[0m\u001b[1;33m(\u001b[0m\u001b[0mstart\u001b[0m\u001b[1;33m=\u001b[0m\u001b[1;36m0\u001b[0m\u001b[1;33m,\u001b[0m\u001b[0mstop\u001b[0m\u001b[1;33m=\u001b[0m\u001b[1;36m0.001\u001b[0m\u001b[1;33m,\u001b[0m\u001b[0mnum\u001b[0m\u001b[1;33m=\u001b[0m\u001b[1;36m11\u001b[0m\u001b[1;33m)\u001b[0m\u001b[1;33m\u001b[0m\u001b[1;33m\u001b[0m\u001b[0m\n\u001b[1;32m----> 2\u001b[1;33m \u001b[0mdf\u001b[0m\u001b[1;33m[\u001b[0m\u001b[1;34m'series'\u001b[0m\u001b[1;33m]\u001b[0m\u001b[1;33m=\u001b[0m\u001b[0mpd\u001b[0m\u001b[1;33m.\u001b[0m\u001b[0mcut\u001b[0m\u001b[1;33m(\u001b[0m\u001b[0mdf\u001b[0m\u001b[1;33m[\u001b[0m\u001b[1;34m'series'\u001b[0m\u001b[1;33m]\u001b[0m\u001b[1;33m,\u001b[0m\u001b[0mbins\u001b[0m\u001b[1;33m=\u001b[0m\u001b[0minterval_range\u001b[0m\u001b[1;33m)\u001b[0m\u001b[1;33m\u001b[0m\u001b[1;33m\u001b[0m\u001b[0m\n\u001b[0m\u001b[0;32m      3\u001b[0m \u001b[0mdf\u001b[0m\u001b[1;33m[\u001b[0m\u001b[1;34m'series'\u001b[0m\u001b[1;33m]\u001b[0m\u001b[1;33m\u001b[0m\u001b[1;33m\u001b[0m\u001b[0m\n",
      "\u001b[1;32m~\\AppData\\Roaming\\Python\\Python38\\site-packages\\pandas\\core\\reshape\\tile.py\u001b[0m in \u001b[0;36mcut\u001b[1;34m(x, bins, right, labels, retbins, precision, include_lowest, duplicates, ordered)\u001b[0m\n\u001b[0;32m    273\u001b[0m             \u001b[1;32mraise\u001b[0m \u001b[0mValueError\u001b[0m\u001b[1;33m(\u001b[0m\u001b[1;34m\"bins must increase monotonically.\"\u001b[0m\u001b[1;33m)\u001b[0m\u001b[1;33m\u001b[0m\u001b[1;33m\u001b[0m\u001b[0m\n\u001b[0;32m    274\u001b[0m \u001b[1;33m\u001b[0m\u001b[0m\n\u001b[1;32m--> 275\u001b[1;33m     fac, bins = _bins_to_cuts(\n\u001b[0m\u001b[0;32m    276\u001b[0m         \u001b[0mx\u001b[0m\u001b[1;33m,\u001b[0m\u001b[1;33m\u001b[0m\u001b[1;33m\u001b[0m\u001b[0m\n\u001b[0;32m    277\u001b[0m         \u001b[0mbins\u001b[0m\u001b[1;33m,\u001b[0m\u001b[1;33m\u001b[0m\u001b[1;33m\u001b[0m\u001b[0m\n",
      "\u001b[1;32m~\\AppData\\Roaming\\Python\\Python38\\site-packages\\pandas\\core\\reshape\\tile.py\u001b[0m in \u001b[0;36m_bins_to_cuts\u001b[1;34m(x, bins, right, labels, precision, include_lowest, dtype, duplicates, ordered)\u001b[0m\n\u001b[0;32m    407\u001b[0m \u001b[1;33m\u001b[0m\u001b[0m\n\u001b[0;32m    408\u001b[0m     \u001b[0mside\u001b[0m \u001b[1;33m=\u001b[0m \u001b[1;34m\"left\"\u001b[0m \u001b[1;32mif\u001b[0m \u001b[0mright\u001b[0m \u001b[1;32melse\u001b[0m \u001b[1;34m\"right\"\u001b[0m\u001b[1;33m\u001b[0m\u001b[1;33m\u001b[0m\u001b[0m\n\u001b[1;32m--> 409\u001b[1;33m     \u001b[0mids\u001b[0m \u001b[1;33m=\u001b[0m \u001b[0mensure_int64\u001b[0m\u001b[1;33m(\u001b[0m\u001b[0mbins\u001b[0m\u001b[1;33m.\u001b[0m\u001b[0msearchsorted\u001b[0m\u001b[1;33m(\u001b[0m\u001b[0mx\u001b[0m\u001b[1;33m,\u001b[0m \u001b[0mside\u001b[0m\u001b[1;33m=\u001b[0m\u001b[0mside\u001b[0m\u001b[1;33m)\u001b[0m\u001b[1;33m)\u001b[0m\u001b[1;33m\u001b[0m\u001b[1;33m\u001b[0m\u001b[0m\n\u001b[0m\u001b[0;32m    410\u001b[0m \u001b[1;33m\u001b[0m\u001b[0m\n\u001b[0;32m    411\u001b[0m     \u001b[1;32mif\u001b[0m \u001b[0minclude_lowest\u001b[0m\u001b[1;33m:\u001b[0m\u001b[1;33m\u001b[0m\u001b[1;33m\u001b[0m\u001b[0m\n",
      "\u001b[1;31mTypeError\u001b[0m: '<' not supported between instances of 'float' and 'pandas._libs.interval.Interval'"
     ]
    }
   ],
   "source": [
    "interval_range=np.linspace(start=0,stop=0.001,num=11)\n",
    "df['series']=pd.cut(df['series'],bins=interval_range)\n",
    "df['series']"
   ]
  },
  {
   "cell_type": "code",
   "execution_count": 94,
   "metadata": {},
   "outputs": [
    {
     "name": "stdout",
     "output_type": "stream",
     "text": [
      "[ 3  6  7 ...  7 11  1]\n",
      "[0.     0.0001 0.0002 0.0003 0.0004 0.0005 0.0006 0.0007 0.0008 0.0009\n",
      " 0.001 ]\n"
     ]
    }
   ],
   "source": [
    "x=np.digitize(x,bins=interval_range)\n",
    "print(x)\n",
    "print(interval_range)"
   ]
  },
  {
   "cell_type": "code",
   "execution_count": 95,
   "metadata": {},
   "outputs": [
    {
     "data": {
      "text/plain": [
       "2.6172326627679743"
      ]
     },
     "execution_count": 95,
     "metadata": {},
     "output_type": "execute_result"
    }
   ],
   "source": [
    "entropy(x)"
   ]
  },
  {
   "cell_type": "code",
   "execution_count": 99,
   "metadata": {},
   "outputs": [
    {
     "ename": "SyntaxError",
     "evalue": "invalid syntax (<ipython-input-99-29f964dbaca4>, line 2)",
     "output_type": "error",
     "traceback": [
      "\u001b[1;36m  File \u001b[1;32m\"<ipython-input-99-29f964dbaca4>\"\u001b[1;36m, line \u001b[1;32m2\u001b[0m\n\u001b[1;33m    <ipython-input-93-891aaaf64810> in <module>\u001b[0m\n\u001b[1;37m    ^\u001b[0m\n\u001b[1;31mSyntaxError\u001b[0m\u001b[1;31m:\u001b[0m invalid syntax\n"
     ]
    }
   ],
   "source": [
    "##Error while using pd.cut even after converting np.array to pd.DataFrame\n",
    "\n",
    "##TypeError                                 Traceback (most recent call last)\n",
    "<ipython-input-93-891aaaf64810> in <module>\n",
    "      1 interval_range=np.linspace(start=0,stop=0.001,num=11)\n",
    "----> 2 df['series']=pd.cut(df['series'],bins=interval_range)\n",
    "      3 df['series']\n",
    "\n",
    "~\\AppData\\Roaming\\Python\\Python38\\site-packages\\pandas\\core\\reshape\\tile.py in cut(x, bins, right, labels, retbins, precision, include_lowest, duplicates, ordered)\n",
    "    273             raise ValueError(\"bins must increase monotonically.\")\n",
    "    274 \n",
    "--> 275     fac, bins = _bins_to_cuts(\n",
    "    276         x,\n",
    "    277         bins,\n",
    "\n",
    "~\\AppData\\Roaming\\Python\\Python38\\site-packages\\pandas\\core\\reshape\\tile.py in _bins_to_cuts(x, bins, right, labels, precision, include_lowest, dtype, duplicates, ordered)\n",
    "    407 \n",
    "    408     side = \"left\" if right else \"right\"\n",
    "--> 409     ids = ensure_int64(bins.searchsorted(x, side=side))\n",
    "    410 \n",
    "    411     if include_lowest:\n",
    "\n",
    "TypeError: '<' not supported between instances of 'float' and 'pandas._libs.interval.Interval'"
   ]
  },
  {
   "cell_type": "code",
   "execution_count": null,
   "metadata": {},
   "outputs": [],
   "source": []
  }
 ],
 "metadata": {
  "kernelspec": {
   "display_name": "Python 3",
   "language": "python",
   "name": "python3"
  },
  "language_info": {
   "codemirror_mode": {
    "name": "ipython",
    "version": 3
   },
   "file_extension": ".py",
   "mimetype": "text/x-python",
   "name": "python",
   "nbconvert_exporter": "python",
   "pygments_lexer": "ipython3",
   "version": "3.8.3"
  }
 },
 "nbformat": 4,
 "nbformat_minor": 4
}
